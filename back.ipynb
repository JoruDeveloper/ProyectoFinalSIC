{
 "cells": [
  {
   "cell_type": "code",
   "execution_count": 2,
   "metadata": {},
   "outputs": [
    {
     "name": "stdout",
     "output_type": "stream",
     "text": [
      "Index(['Categoria', 'Enlace', 'Nombre', 'ImagenURL', 'Ingredientes',\n",
      "       'Calorias', 'Grasa Total(gr)', 'Colesterol(mg)', 'Sodio(mg)',\n",
      "       'Carbohidrato Total(gr)', 'Proteina(gr)', 'Vitamina A(mcg)',\n",
      "       'Vitamina C(mg)', 'Vitamina D(mcg)', 'Calcio(mg)', 'Hierro(mg)',\n",
      "       'Potasio(mg)'],\n",
      "      dtype='object')\n"
     ]
    }
   ],
   "source": [
    "import pandas as pd\n",
    "\n",
    "df = pd.read_csv('assets/data/datos.csv', delimiter=';')\n",
    "\n",
    "#print(df.head())\n",
    "\n",
    "print(df.columns)"
   ]
  },
  {
   "cell_type": "code",
   "execution_count": 8,
   "metadata": {},
   "outputs": [],
   "source": [
    "from langchain_openai import AzureOpenAIEmbeddings\n",
    "import os\n",
    "from dotenv import load_dotenv\n",
    "import numpy as np\n",
    "load_dotenv()\n",
    "\n",
    "def similitud_cosenos(vect1:list, vect2:list)-> float:\n",
    "    dot_product = np.dot(vect1, vect2)\n",
    "    norm_A = np.linalg.norm(vect1)\n",
    "    norm_B = np.linalg.norm(vect2)\n",
    "    cosine_similarity = dot_product / (norm_A * norm_B)\n",
    "    return cosine_similarity\n",
    "\n",
    "\n",
    "embeddigs = AzureOpenAIEmbeddings(\n",
    "    api_key=os.getenv(\"openai_embeddings_api_key\"),\n",
    "    base_url=os.getenv(\"openai_api_base_emb\"),\n",
    "    openai_api_type=os.getenv(\"openai_api_type\"),\n",
    "    #api_version=os.getenv(\"api_version_openai_emb\"),\n",
    "    #deployment_name= os.getenv(\"deploy_name_emb\")\n",
    ")\n"
   ]
  },
  {
   "cell_type": "code",
   "execution_count": 10,
   "metadata": {},
   "outputs": [
    {
     "name": "stdout",
     "output_type": "stream",
     "text": [
      "Dataset convertido y guardado en dataset_numerico.csv ✅\n"
     ]
    }
   ],
   "source": [
    "import os\n",
    "import pandas as pd\n",
    "from langchain_openai import AzureOpenAIEmbeddings\n",
    "from dotenv import load_dotenv\n",
    "from sklearn.preprocessing import LabelEncoder\n",
    "\n",
    "# Cargar variables de entorno\n",
    "load_dotenv()\n",
    "\n",
    "# Inicializar Azure OpenAI Embeddings\n",
    "embeddings_model = AzureOpenAIEmbeddings(\n",
    "    api_key=os.getenv(\"openai_embeddings_api_key\"),\n",
    "    base_url=os.getenv(\"openai_api_base_emb\"),\n",
    "    openai_api_type=os.getenv(\"openai_api_type\"),\n",
    "    #api_version=os.getenv(\"api_version_openai_emb\"),\n",
    "    #deployment_name= os.getenv(\"deploy_name_emb\")\n",
    ")\n",
    "\n",
    "# Cargar el dataset\n",
    "df = pd.read_csv('assets/data/datos.csv', delimiter=';')  # Asegúrate de reemplazar con tu ruta\n",
    "\n",
    "# Columnas de texto que queremos convertir\n",
    "columnas_texto = ['Categoria', 'Nombre', 'Ingredientes']\n",
    "\n",
    "# Aplicar embeddings a las columnas de texto y convertir a números\n",
    "for col in columnas_texto:\n",
    "    df[col + \"_emb\"] = df[col].astype(str).apply(lambda x: sum(embeddings_model.embed_query(x)))\n",
    "\n",
    "# Codificar las categorías con números (Label Encoding)\n",
    "label_encoder = LabelEncoder()\n",
    "df[\"Categoria_Num\"] = label_encoder.fit_transform(df[\"Categoria\"].astype(str))\n",
    "\n",
    "# Columnas numéricas originales + nuevas columnas transformadas\n",
    "columnas_numericas = [\n",
    "    'Calorias', 'Grasa Total(gr)', 'Colesterol(mg)', 'Sodio(mg)',\n",
    "    'Carbohidrato Total(gr)', 'Proteina(gr)', 'Vitamina A(mcg)',\n",
    "    'Vitamina C(mg)', 'Vitamina D(mcg)', 'Calcio(mg)', 'Hierro(mg)',\n",
    "    'Potasio(mg)', 'Categoria_Num', 'Nombre_emb', 'Ingredientes_emb'\n",
    "]\n",
    "\n",
    "# Reemplazar NaN con 0\n",
    "df[columnas_numericas] = df[columnas_numericas].fillna(0)\n",
    "\n",
    "# Crear la nueva columna con la suma total\n",
    "df[\"Suma_Total\"] = df[columnas_numericas].sum(axis=1)\n",
    "\n",
    "# Guardar el dataset con la nueva columna\n",
    "df.to_csv(\"dataset_numerico.csv\", index=False)\n",
    "\n",
    "print(\"Dataset convertido y guardado en dataset_numerico.csv ✅\")\n"
   ]
  },
  {
   "cell_type": "code",
   "execution_count": 14,
   "metadata": {},
   "outputs": [],
   "source": [
    "dfN = pd.read_csv('assets/data/dataset_numerico.csv')"
   ]
  },
  {
   "cell_type": "code",
   "execution_count": null,
   "metadata": {},
   "outputs": [
    {
     "data": {
      "text/plain": [
       "Index(['Categoria', 'Enlace', 'Nombre', 'ImagenURL', 'Ingredientes',\n",
       "       'Calorias', 'Grasa Total(gr)', 'Colesterol(mg)', 'Sodio(mg)',\n",
       "       'Carbohidrato Total(gr)', 'Proteina(gr)', 'Vitamina A(mcg)',\n",
       "       'Vitamina C(mg)', 'Vitamina D(mcg)', 'Calcio(mg)', 'Hierro(mg)',\n",
       "       'Potasio(mg)', 'Categoria_emb', 'Nombre_emb', 'Ingredientes_emb',\n",
       "       'Categoria_Num', 'Suma_Total'],\n",
       "      dtype='object')"
      ]
     },
     "execution_count": 19,
     "metadata": {},
     "output_type": "execute_result"
    }
   ],
   "source": [
    "dfN.columns"
   ]
  },
  {
   "cell_type": "code",
   "execution_count": 20,
   "metadata": {},
   "outputs": [],
   "source": [
    "import numpy as np\n",
    "\n",
    "def similitud_cosenos(vect1:list, vect2:list)-> float:\n",
    "    dot_product = np.dot(vect1, vect2)\n",
    "    norm_A = np.linalg.norm(vect1)\n",
    "    norm_B = np.linalg.norm(vect2)\n",
    "    cosine_similarity = dot_product / (norm_A * norm_B)\n",
    "    return cosine_similarity"
   ]
  },
  {
   "cell_type": "code",
   "execution_count": 53,
   "metadata": {},
   "outputs": [
    {
     "ename": "AttributeError",
     "evalue": "'AzureOpenAIEmbeddings' object has no attribute 'embeddings'",
     "output_type": "error",
     "traceback": [
      "\u001b[0;31m---------------------------------------------------------------------------\u001b[0m",
      "\u001b[0;31mAttributeError\u001b[0m                            Traceback (most recent call last)",
      "Cell \u001b[0;32mIn[53], line 48\u001b[0m\n\u001b[1;32m     46\u001b[0m \u001b[38;5;66;03m# Ejemplo de uso\u001b[39;00m\n\u001b[1;32m     47\u001b[0m prompt \u001b[38;5;241m=\u001b[39m \u001b[38;5;124m\"\u001b[39m\u001b[38;5;124mquiero una receta de pollo\u001b[39m\u001b[38;5;124m\"\u001b[39m\n\u001b[0;32m---> 48\u001b[0m mejor_receta \u001b[38;5;241m=\u001b[39m \u001b[43mobtener_receta_similar\u001b[49m\u001b[43m(\u001b[49m\u001b[43mprompt\u001b[49m\u001b[43m,\u001b[49m\u001b[43m \u001b[49m\u001b[43mdf\u001b[49m\u001b[43m)\u001b[49m\n\u001b[1;32m     50\u001b[0m \u001b[38;5;66;03m# Imprimir la receta más similar\u001b[39;00m\n\u001b[1;32m     51\u001b[0m \u001b[38;5;28mprint\u001b[39m(\u001b[38;5;124m\"\u001b[39m\u001b[38;5;124mLa receta más similar es:\u001b[39m\u001b[38;5;124m\"\u001b[39m, mejor_receta)\n",
      "Cell \u001b[0;32mIn[53], line 36\u001b[0m, in \u001b[0;36mobtener_receta_similar\u001b[0;34m(prompt, df)\u001b[0m\n\u001b[1;32m     34\u001b[0m \u001b[38;5;28;01mdef\u001b[39;00m\u001b[38;5;250m \u001b[39m\u001b[38;5;21mobtener_receta_similar\u001b[39m(prompt: \u001b[38;5;28mstr\u001b[39m, df: pd\u001b[38;5;241m.\u001b[39mDataFrame) \u001b[38;5;241m-\u001b[39m\u001b[38;5;241m>\u001b[39m \u001b[38;5;28mdict\u001b[39m:\n\u001b[1;32m     35\u001b[0m     \u001b[38;5;66;03m# Generar embedding para el prompt\u001b[39;00m\n\u001b[0;32m---> 36\u001b[0m     prompt_embedding \u001b[38;5;241m=\u001b[39m \u001b[43mgenerate_embeddings\u001b[49m\u001b[43m(\u001b[49m\u001b[43mprompt\u001b[49m\u001b[43m)\u001b[49m\n\u001b[1;32m     38\u001b[0m     \u001b[38;5;66;03m# Calcular la similitud de coseno para cada receta en el DataFrame\u001b[39;00m\n\u001b[1;32m     39\u001b[0m     df[\u001b[38;5;124m'\u001b[39m\u001b[38;5;124mSimilitud\u001b[39m\u001b[38;5;124m'\u001b[39m] \u001b[38;5;241m=\u001b[39m df[\u001b[38;5;124m'\u001b[39m\u001b[38;5;124mCategoria_emb\u001b[39m\u001b[38;5;124m'\u001b[39m]\u001b[38;5;241m.\u001b[39mapply(\u001b[38;5;28;01mlambda\u001b[39;00m x: similitud_cosenos(prompt_embedding, x))\n",
      "Cell \u001b[0;32mIn[53], line 22\u001b[0m, in \u001b[0;36mgenerate_embeddings\u001b[0;34m(text, model)\u001b[0m\n\u001b[1;32m     21\u001b[0m \u001b[38;5;28;01mdef\u001b[39;00m\u001b[38;5;250m \u001b[39m\u001b[38;5;21mgenerate_embeddings\u001b[39m(text, model\u001b[38;5;241m=\u001b[39m\u001b[38;5;124m\"\u001b[39m\u001b[38;5;124mtext-embedding-3-large\u001b[39m\u001b[38;5;124m\"\u001b[39m):\n\u001b[0;32m---> 22\u001b[0m     response \u001b[38;5;241m=\u001b[39m \u001b[43membeddings_model\u001b[49m\u001b[38;5;241;43m.\u001b[39;49m\u001b[43membeddings\u001b[49m\u001b[38;5;241m.\u001b[39mcreate(\u001b[38;5;28minput\u001b[39m\u001b[38;5;241m=\u001b[39m[text], model\u001b[38;5;241m=\u001b[39mmodel)\n\u001b[1;32m     23\u001b[0m     \u001b[38;5;28;01mreturn\u001b[39;00m response\u001b[38;5;241m.\u001b[39mdata[\u001b[38;5;241m0\u001b[39m]\u001b[38;5;241m.\u001b[39membedding\n",
      "File \u001b[0;32m~/Descargas/Samsung/proyecto/ProyectoFinalSIC/gato/lib/python3.11/site-packages/pydantic/main.py:891\u001b[0m, in \u001b[0;36mBaseModel.__getattr__\u001b[0;34m(self, item)\u001b[0m\n\u001b[1;32m    888\u001b[0m     \u001b[38;5;28;01mreturn\u001b[39;00m \u001b[38;5;28msuper\u001b[39m()\u001b[38;5;241m.\u001b[39m\u001b[38;5;21m__getattribute__\u001b[39m(item)  \u001b[38;5;66;03m# Raises AttributeError if appropriate\u001b[39;00m\n\u001b[1;32m    889\u001b[0m \u001b[38;5;28;01melse\u001b[39;00m:\n\u001b[1;32m    890\u001b[0m     \u001b[38;5;66;03m# this is the current error\u001b[39;00m\n\u001b[0;32m--> 891\u001b[0m     \u001b[38;5;28;01mraise\u001b[39;00m \u001b[38;5;167;01mAttributeError\u001b[39;00m(\u001b[38;5;124mf\u001b[39m\u001b[38;5;124m'\u001b[39m\u001b[38;5;132;01m{\u001b[39;00m\u001b[38;5;28mtype\u001b[39m(\u001b[38;5;28mself\u001b[39m)\u001b[38;5;241m.\u001b[39m\u001b[38;5;18m__name__\u001b[39m\u001b[38;5;132;01m!r}\u001b[39;00m\u001b[38;5;124m object has no attribute \u001b[39m\u001b[38;5;132;01m{\u001b[39;00mitem\u001b[38;5;132;01m!r}\u001b[39;00m\u001b[38;5;124m'\u001b[39m)\n",
      "\u001b[0;31mAttributeError\u001b[0m: 'AzureOpenAIEmbeddings' object has no attribute 'embeddings'"
     ]
    }
   ],
   "source": [
    "import os\n",
    "import pandas as pd\n",
    "from langchain_openai import AzureOpenAIEmbeddings \n",
    "from dotenv import load_dotenv\n",
    "from sklearn.metrics.pairwise import cosine_similarity\n",
    "\n",
    "# Cargar las variables de entorno desde un archivo .env\n",
    "load_dotenv()\n",
    "\n",
    "# Inicializar Azure OpenAI Embeddings\n",
    "embeddings_model = AzureOpenAIEmbeddings(\n",
    "    api_key=os.getenv(\"openai_embeddings_api_key\"),\n",
    "    base_url=os.getenv(\"openai_api_base_emb\"),\n",
    "    openai_api_type=os.getenv(\"openai_api_type\"),\n",
    "    # api_version=os.getenv(\"api_version_openai_emb\"),  # Si tienes una versión específica\n",
    "    # deployment_name=os.getenv(\"deploy_name_emb\")  # Si tienes un deployment_name específico\n",
    ")\n",
    "\n",
    "\n",
    "# Función para generar embeddings utilizando el modelo text-embedding-3-large\n",
    "def generate_embeddings(text, model=\"text-embedding-3-large\"):\n",
    "    response = embeddings_model.embeddings.create(input=[text], model=model)\n",
    "    return response.data[0].embedding\n",
    "\n",
    "# Función para calcular la similitud de coseno entre dos embeddings\n",
    "def similitud_cosenos(embedding1, embedding2):\n",
    "    return cosine_similarity([embedding1], [embedding2])[0][0]\n",
    "\n",
    "# Cargar el archivo CSV con las recetas o textos\n",
    "df = pd.read_csv('assets/data/dataset_numerico.csv')  # Ajusta la ruta de tu archivo CSV\n",
    "\n",
    "\n",
    "# Función para obtener la receta más similar al prompt\n",
    "def obtener_receta_similar(prompt: str, df: pd.DataFrame) -> dict:\n",
    "    # Generar embedding para el prompt\n",
    "    prompt_embedding = generate_embeddings(prompt)\n",
    "\n",
    "    # Calcular la similitud de coseno para cada receta en el DataFrame\n",
    "    df['Similitud'] = df['Categoria_emb'].apply(lambda x: similitud_cosenos(prompt_embedding, x))\n",
    "\n",
    "    # Buscar la receta más similar\n",
    "    mejor_receta = df.loc[df['Similitud'].idxmax()]\n",
    "\n",
    "    return mejor_receta\n",
    "\n",
    "# Ejemplo de uso\n",
    "prompt = \"quiero una receta de pollo\"\n",
    "mejor_receta = obtener_receta_similar(prompt, df)\n",
    "\n",
    "# Imprimir la receta más similar\n",
    "print(\"La receta más similar es:\", mejor_receta)\n",
    "\n"
   ]
  }
 ],
 "metadata": {
  "kernelspec": {
   "display_name": "gato",
   "language": "python",
   "name": "python3"
  },
  "language_info": {
   "codemirror_mode": {
    "name": "ipython",
    "version": 3
   },
   "file_extension": ".py",
   "mimetype": "text/x-python",
   "name": "python",
   "nbconvert_exporter": "python",
   "pygments_lexer": "ipython3",
   "version": "3.11.2"
  }
 },
 "nbformat": 4,
 "nbformat_minor": 2
}
