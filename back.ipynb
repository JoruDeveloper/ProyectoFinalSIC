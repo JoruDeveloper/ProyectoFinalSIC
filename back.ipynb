{
 "cells": [
  {
   "cell_type": "code",
   "execution_count": 2,
   "metadata": {},
   "outputs": [
    {
     "name": "stdout",
     "output_type": "stream",
     "text": [
      "Index(['Categoría', 'Enlace', 'Nombre', 'ImagenURL', 'Calorías',\n",
      "       'Ingredientes', 'Nutrientes', 'Vitaminas y Minerales'],\n",
      "      dtype='object')\n"
     ]
    }
   ],
   "source": [
    "import pandas as pd\n",
    "\n",
    "df = pd.read_csv('datos.csv', delimiter=';')\n",
    "\n",
    "#print(df.head())\n",
    "\n",
    "print(df.columns)"
   ]
  },
  {
   "cell_type": "code",
   "execution_count": 3,
   "metadata": {},
   "outputs": [
    {
     "data": {
      "text/plain": [
       "Categoría                0\n",
       "Enlace                   0\n",
       "Nombre                   0\n",
       "ImagenURL                0\n",
       "Calorías                 0\n",
       "Ingredientes             2\n",
       "Nutrientes               0\n",
       "Vitaminas y Minerales    3\n",
       "dtype: int64"
      ]
     },
     "execution_count": 3,
     "metadata": {},
     "output_type": "execute_result"
    }
   ],
   "source": [
    "df.isnull().sum()"
   ]
  },
  {
   "cell_type": "code",
   "execution_count": 7,
   "metadata": {},
   "outputs": [],
   "source": [
    "df.dropna(axis=0, inplace=True)"
   ]
  },
  {
   "cell_type": "code",
   "execution_count": 6,
   "metadata": {},
   "outputs": [
    {
     "name": "stdout",
     "output_type": "stream",
     "text": [
      " | 1 taza de avena tradicional (old fashioned) sin cocer | 1 taza de yogur descremado | 1/2 taza de leche descremada o de 1% de grasa | 1/2 taza de arándanos frescos o congelados | 1/2 taza de trocitos de manzana (aproximadamente 1/3 manzana mediana cortada en 3\" de diámetro)\n",
      " | Grasa Total 3g | Grasa Saturada 1g | Colesterol 5mg | Sodio 55mg | Carbohidrato Total 27g | Fibra Dietética 3g | Azúcares Totales 9g | Incluye 0g azúcares añadidos | Proteínas 8g\n"
     ]
    }
   ],
   "source": [
    "\n",
    "print(df['Ingredientes'].iloc[0])\n",
    "print(df['Nutrientes'].iloc[0])"
   ]
  },
  {
   "cell_type": "code",
   "execution_count": 8,
   "metadata": {},
   "outputs": [],
   "source": [
    "import re\n",
    "from sklearn.feature_extraction.text import TfidfVectorizer\n",
    "from sklearn.metrics.pairwise import cosine_similarity\n",
    "import numpy as np\n",
    "\n",
    "# Cargar el dataset\n",
    "#df = pd.read_csv('recetas.csv')\n",
    "\n",
    "# Limpiar y convertir las calorías a números\n",
    "df['Calorías'] = pd.to_numeric(df['Calorías'], errors='coerce')\n",
    "\n",
    "# Limpieza de los ingredientes: separar por \" | \" y convertir a minúsculas\n",
    "df['Ingredientes_limpios'] = df['Ingredientes'].apply(\n",
    "    lambda x: ' '.join([word.lower() for word in str(x).split('|')]) if pd.notna(x) else ''\n",
    ")\n",
    "\n",
    "# Vectorización de los ingredientes usando TF-IDF\n",
    "vectorizer = TfidfVectorizer(stop_words='english')\n",
    "X = vectorizer.fit_transform(df['Ingredientes_limpios'])\n"
   ]
  },
  {
   "cell_type": "code",
   "execution_count": 9,
   "metadata": {},
   "outputs": [],
   "source": [
    "def extract_calories(prompt):\n",
    "    match = re.search(r'(\\d+)\\s*calorías', prompt.lower())\n",
    "    if match:\n",
    "        return int(match.group(1))\n",
    "    else:\n",
    "        return None\n"
   ]
  },
  {
   "cell_type": "code",
   "execution_count": 20,
   "metadata": {},
   "outputs": [
    {
     "name": "stdout",
     "output_type": "stream",
     "text": [
      "Receta recomendada: Chili vegetariano, Calorías: 180\n"
     ]
    }
   ],
   "source": [
    "def find_recipe_by_calories_and_ingredients(user_calories, user_prompt):\n",
    "    # Calculamos la similitud de cosenos entre la receta y las del dataset\n",
    "    cosine_similarities = cosine_similarity(X)  # Similaridad de ingredientes\n",
    "    calorie_differences = np.abs(df['Calorías'] - user_calories)  # Diferencia de calorías\n",
    "    \n",
    "    # Buscar la receta con la menor diferencia de calorías\n",
    "    best_match_index = calorie_differences.idxmin()\n",
    "    \n",
    "    # Obtener la receta más similar basada en ingredientes y calorías\n",
    "    best_recipe = df.iloc[best_match_index]\n",
    "    \n",
    "    # Mostrar la receta más similar\n",
    "    return best_recipe\n",
    "\n",
    "# Ejemplo de entrada del usuario\n",
    "user_prompt = \"quiero una receta que tenga 180 calorías\"\n",
    "user_calories = extract_calories(user_prompt)\n",
    "\n",
    "if user_calories:\n",
    "    recipe = find_recipe_by_calories_and_ingredients(user_calories, user_prompt)\n",
    "    print(f\"Receta recomendada: {recipe['Nombre']}, Calorías: {recipe['Calorías']}\")\n",
    "else:\n",
    "    print(\"No se encontró información de calorías en tu consulta.\")\n"
   ]
  },
  {
   "cell_type": "code",
   "execution_count": 51,
   "metadata": {},
   "outputs": [
    {
     "name": "stdout",
     "output_type": "stream",
     "text": [
      "   1 taza de avena tradicional (old fashioned) sin cocer   1 taza de yogur descremado   1/2 taza de leche descremada o de 1% de grasa   1/2 taza de arándanos frescos o congelados   1/2 taza de trocitos de manzana (aproximadamente 1/3 manzana mediana cortada en 3\" de diámetro)\n"
     ]
    }
   ],
   "source": [
    "import pandas as pd\n",
    "import spacy\n",
    "import numpy as np\n",
    "\n",
    "# Cargar el modelo de Spacy en español\n",
    "nlp = spacy.load('es_core_news_md')\n",
    "\n",
    "# Limpieza de los ingredientes: separar por \" | \" y convertir a minúsculas\n",
    "df['Ingredientes_limpios'] = df['Ingredientes'].apply(\n",
    "    lambda x: ' '.join([word.lower() for word in str(x).split('|')]) if pd.notna(x) else ''\n",
    ")\n",
    "\n",
    "print(df['Ingredientes_limpios'].iloc[0])\n",
    "\n"
   ]
  },
  {
   "cell_type": "code",
   "execution_count": 53,
   "metadata": {},
   "outputs": [
    {
     "name": "stdout",
     "output_type": "stream",
     "text": [
      "Receta recomendada: Tazón de arroz al estilo del suroeste\n",
      "Ingredientes:  | 1 cucharadita de aceite vegetal | 1 taza de vegetales picados (pruebe una mezcla de pimiento dulce, cebolla, maíz, tomate, calabacita) | 1 taza de carne cocinada (picada o deshilachada), frijoles o tofu | 1 taza de arroz integral cocido | 2 cucharadas de salsa, queso rallado o crema agria baja en grasa\n"
     ]
    }
   ],
   "source": [
    "import pandas as pd\n",
    "import spacy\n",
    "import numpy as np\n",
    "import re  # Para expresiones regulares\n",
    "\n",
    "# Cargar el modelo de Spacy en español\n",
    "nlp = spacy.load('es_core_news_md')\n",
    "\n",
    "# Función para limpiar los ingredientes y extraer solo los nombres (sin cantidades ni unidades)\n",
    "def clean_ingredients(ingredient_str):\n",
    "    # Eliminar cantidades, unidades y texto adicional\n",
    "    ingredient_str = re.sub(r'\\d+\\s*(\\w+\\s?)+', '', ingredient_str)  # Elimina números y unidades\n",
    "    ingredient_str = re.sub(r'[^\\w\\s]', '', ingredient_str)  # Eliminar caracteres no alfanuméricos\n",
    "    return ' '.join([word.lower() for word in ingredient_str.split() if word])\n",
    "\n",
    "# Limpieza de los ingredientes: separar por \" | \" y convertir a minúsculas\n",
    "df['Ingredientes_limpios'] = df['Ingredientes'].apply(\n",
    "    lambda x: ' '.join([clean_ingredients(ingredient) for ingredient in str(x).split('|')]) if pd.notna(x) else ''\n",
    ")\n",
    "\n",
    "# Función para obtener la similitud entre los ingredientes de la receta y el prompt del usuario\n",
    "def get_similarity(text1, text2):\n",
    "    # Convertir ambos textos en vectores utilizando Spacy\n",
    "    vec1 = nlp(text1).vector\n",
    "    vec2 = nlp(text2).vector\n",
    "    \n",
    "    # Verificar si alguna norma es cero (evitar división por cero)\n",
    "    norm1 = np.linalg.norm(vec1)\n",
    "    norm2 = np.linalg.norm(vec2)\n",
    "    \n",
    "    if norm1 == 0 or norm2 == 0:\n",
    "        return 0  # Si uno de los vectores es nulo, no tiene sentido calcular similitud\n",
    "    \n",
    "    # Calcular la similitud de coseno\n",
    "    cosine_similarity = np.dot(vec1, vec2) / (norm1 * norm2)\n",
    "    return cosine_similarity\n",
    "\n",
    "# Función para buscar recetas por ingredientes\n",
    "def find_recipe_by_ingredients(user_prompt):\n",
    "    # Convertir la consulta del usuario a minúsculas\n",
    "    user_prompt = user_prompt.lower()\n",
    "    \n",
    "    # Paso 1: Filtrar recetas que tengan el término en el nombre\n",
    "    filtered_by_name = df[df['Nombre'].str.contains(user_prompt, case=False, na=False)]\n",
    "    \n",
    "    # Si se encuentran recetas que coinciden por nombre, devolver la mejor receta\n",
    "    if not filtered_by_name.empty:\n",
    "        return filtered_by_name\n",
    "    \n",
    "    # Paso 2: Si no se encuentran coincidencias por nombre, filtrar por ingredientes\n",
    "    similarities = []\n",
    "    for ingredientes in df['Ingredientes_limpios']:\n",
    "        similarity = get_similarity(user_prompt, ingredientes)\n",
    "        similarities.append(similarity)\n",
    "    \n",
    "    # Encontrar la receta con la mayor similitud\n",
    "    most_similar_index = similarities.index(max(similarities))\n",
    "    best_recipe = df.iloc[most_similar_index]\n",
    "    \n",
    "    return best_recipe\n",
    "\n",
    "# Ejemplo de entrada del usuario\n",
    "user_prompt = \"Dame una receta que contenga pasta y huevos\"\n",
    "recipe = find_recipe_by_ingredients(user_prompt)\n",
    "\n",
    "# Mostrar la receta recomendada\n",
    "if isinstance(recipe, pd.DataFrame):  # Si se encuentran recetas por nombre\n",
    "    print(\"Recetas recomendadas por nombre:\")\n",
    "    for _, row in recipe.iterrows():\n",
    "        print(f\"Receta: {row['Nombre']}\")\n",
    "        print(f\"Ingredientes: {row['Ingredientes']}\")\n",
    "else:  # Si se encuentra una receta por similitud de ingredientes\n",
    "    print(f\"Receta recomendada: {recipe['Nombre']}\")\n",
    "    print(f\"Ingredientes: {recipe['Ingredientes']}\")\n"
   ]
  },
  {
   "cell_type": "code",
   "execution_count": 16,
   "metadata": {},
   "outputs": [
    {
     "name": "stdout",
     "output_type": "stream",
     "text": [
      "Index(['Categoría', 'Enlace', 'Nombre', 'ImagenURL', 'Calorías',\n",
      "       'Ingredientes', 'Nutrientes', 'Vitaminas y Minerales',\n",
      "       'Ingredientes_limpios'],\n",
      "      dtype='object')\n"
     ]
    }
   ],
   "source": [
    "print(df.columns)\n"
   ]
  },
  {
   "cell_type": "code",
   "execution_count": null,
   "metadata": {},
   "outputs": [
    {
     "name": "stderr",
     "output_type": "stream",
     "text": [
      "[nltk_data] Downloading package stopwords to\n",
      "[nltk_data]     /home/edfermachado/nltk_data...\n",
      "[nltk_data]   Unzipping corpora/stopwords.zip.\n"
     ]
    },
    {
     "name": "stdout",
     "output_type": "stream",
     "text": [
      "cuál mejor lugar visitar madrid\n"
     ]
    }
   ],
   "source": [
    "import re\n",
    "import nltk\n",
    "import spacy\n",
    "import os\n",
    "from nltk.corpus import stopwords\n",
    "\n",
    "nltk.download('stopwords')\n",
    "\n",
    "directorio_actual = os.getcwd()\n",
    "\n",
    "try:\n",
    "    nlp = spacy.load(\"es_core_news_sm\")\n",
    "except OSError:\n",
    "    spacy.cli.download(\"es_core_news_sm\")\n",
    "    nlp = spacy.load(\"es_core_news_sm\")\n",
    "\n",
    "stop_words = set(stopwords.words(\"spanish\"))\n",
    "\n",
    "def preprocesar_pregunta(pregunta):\n",
    "   \n",
    "    pregunta = pregunta.lower()\n",
    "\n",
    "    pregunta = re.sub(r'[^a-záéíóúüñ\\s]', '', pregunta)\n",
    "\n",
    "    # Tokenizar la pregunta usando spaCy\n",
    "    doc = nlp(pregunta)\n",
    "\n",
    "    # Eliminar stopwords y aplicar lematización\n",
    "    tokens = [token.lemma_ for token in doc if token.text not in stop_words]\n",
    "\n",
    "   \n",
    "    pregunta_normalizada = \" \".join(tokens)\n",
    "\n",
    "    return pregunta_normalizada\n",
    "\n",
    "# TEST\n",
    "pregunta_ejemplo = \"¿Las cachapas llevan queso?\"\n",
    "pregunta_preprocesada = preprocesar_pregunta(pregunta_ejemplo)\n",
    "print(pregunta_preprocesada)"
   ]
  }
 ],
 "metadata": {
  "kernelspec": {
   "display_name": "gato",
   "language": "python",
   "name": "python3"
  },
  "language_info": {
   "codemirror_mode": {
    "name": "ipython",
    "version": 3
   },
   "file_extension": ".py",
   "mimetype": "text/x-python",
   "name": "python",
   "nbconvert_exporter": "python",
   "pygments_lexer": "ipython3",
   "version": "3.11.2"
  }
 },
 "nbformat": 4,
 "nbformat_minor": 2
}
