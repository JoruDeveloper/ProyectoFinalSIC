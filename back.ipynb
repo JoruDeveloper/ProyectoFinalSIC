{
 "cells": [
  {
   "cell_type": "code",
   "execution_count": 2,
   "metadata": {},
   "outputs": [
    {
     "name": "stdout",
     "output_type": "stream",
     "text": [
      "Index(['Categoria', 'Enlace', 'Nombre', 'ImagenURL', 'Ingredientes',\n",
      "       'Calorias', 'Grasa Total(gr)', 'Colesterol(mg)', 'Sodio(mg)',\n",
      "       'Carbohidrato Total(gr)', 'Proteina(gr)', 'Vitamina A(mcg)',\n",
      "       'Vitamina C(mg)', 'Vitamina D(mcg)', 'Calcio(mg)', 'Hierro(mg)',\n",
      "       'Potasio(mg)'],\n",
      "      dtype='object')\n"
     ]
    }
   ],
   "source": [
    "import pandas as pd\n",
    "\n",
    "df = pd.read_csv('assets/data/datos.csv', delimiter=';')\n",
    "\n",
    "#print(df.head())\n",
    "\n",
    "print(df.columns)"
   ]
  },
  {
   "cell_type": "code",
   "execution_count": 10,
   "metadata": {},
   "outputs": [
    {
     "name": "stdout",
     "output_type": "stream",
     "text": [
      "Dataset convertido y guardado en dataset_numerico.csv ✅\n"
     ]
    }
   ],
   "source": [
    "import os\n",
    "import pandas as pd\n",
    "from langchain_openai import AzureOpenAIEmbeddings\n",
    "from dotenv import load_dotenv\n",
    "from sklearn.preprocessing import LabelEncoder\n",
    "\n",
    "# Cargar variables de entorno\n",
    "load_dotenv()\n",
    "\n",
    "# Inicializar Azure OpenAI Embeddings\n",
    "embeddings_model = AzureOpenAIEmbeddings(\n",
    "    api_key=os.getenv(\"openai_embeddings_api_key\"),\n",
    "    base_url=os.getenv(\"openai_api_base_emb\"),\n",
    "    openai_api_type=os.getenv(\"openai_api_type\"),\n",
    "    #api_version=os.getenv(\"api_version_openai_emb\"),\n",
    "    #deployment_name= os.getenv(\"deploy_name_emb\")\n",
    ")\n",
    "\n",
    "# Cargar el dataset\n",
    "df = pd.read_csv('assets/data/datos.csv', delimiter=';')  # Asegúrate de reemplazar con tu ruta\n",
    "\n",
    "# Columnas de texto que queremos convertir\n",
    "columnas_texto = ['Categoria', 'Nombre', 'Ingredientes']\n",
    "\n",
    "# Aplicar embeddings a las columnas de texto y convertir a números\n",
    "for col in columnas_texto:\n",
    "    df[col + \"_emb\"] = df[col].astype(str).apply(lambda x: sum(embeddings_model.embed_query(x)))\n",
    "\n",
    "# Codificar las categorías con números (Label Encoding)\n",
    "label_encoder = LabelEncoder()\n",
    "df[\"Categoria_Num\"] = label_encoder.fit_transform(df[\"Categoria\"].astype(str))\n",
    "\n",
    "# Columnas numéricas originales + nuevas columnas transformadas\n",
    "columnas_numericas = [\n",
    "    'Calorias', 'Grasa Total(gr)', 'Colesterol(mg)', 'Sodio(mg)',\n",
    "    'Carbohidrato Total(gr)', 'Proteina(gr)', 'Vitamina A(mcg)',\n",
    "    'Vitamina C(mg)', 'Vitamina D(mcg)', 'Calcio(mg)', 'Hierro(mg)',\n",
    "    'Potasio(mg)', 'Categoria_Num', 'Nombre_emb', 'Ingredientes_emb'\n",
    "]\n",
    "\n",
    "# Reemplazar NaN con 0\n",
    "df[columnas_numericas] = df[columnas_numericas].fillna(0)\n",
    "\n",
    "# Crear la nueva columna con la suma total\n",
    "df[\"Suma_Total\"] = df[columnas_numericas].sum(axis=1)\n",
    "\n",
    "# Guardar el dataset con la nueva columna\n",
    "df.to_csv(\"dataset_numerico.csv\", index=False)\n",
    "\n",
    "print(\"Dataset convertido y guardado en dataset_numerico.csv ✅\")\n"
   ]
  },
  {
   "cell_type": "code",
   "execution_count": 1,
   "metadata": {},
   "outputs": [],
   "source": [
    "from langchain_openai import AzureOpenAIEmbeddings\n",
    "import os\n",
    "from dotenv import load_dotenv\n",
    "import numpy as np\n",
    "import pandas as pd\n",
    "\n",
    "load_dotenv()\n",
    "\n",
    "def similitud_cosenos(vect1: list, vect2: list) -> float:\n",
    "    dot_product = np.dot(vect1, vect2)\n",
    "    norm_A = np.linalg.norm(vect1)\n",
    "    norm_B = np.linalg.norm(vect2)\n",
    "    cosine_similarity = dot_product / (norm_A * norm_B)\n",
    "    return cosine_similarity\n",
    "\n",
    "\n",
    "df = pd.read_csv('assets/data/datos.csv', delimiter=\";\") \n",
    "\n",
    "#respuestas = df[\"Ingredientes\"].dropna().tolist()\n",
    "\n",
    "respuestas = df[[\"Ingredientes\", \"Nombre\", \"Categoria\"]].dropna().values.tolist()\n",
    "\n",
    "embeddings = AzureOpenAIEmbeddings(\n",
    "    api_key=os.getenv(\"openai_embeddings_api_key\"),\n",
    "    base_url=os.getenv(\"openai_api_base_emb\"),\n",
    "    openai_api_type=os.getenv(\"openai_api_type\"),\n",
    ")\n",
    "\n",
    "query = [embeddings.embed_query(text[1]) for text in respuestas]\n"
   ]
  },
  {
   "cell_type": "code",
   "execution_count": 20,
   "metadata": {},
   "outputs": [
    {
     "name": "stdout",
     "output_type": "stream",
     "text": [
      "Receta de torta de fresa - rta: [' | 1 1/2 tazas de fresas picadas finamente (alrededor de 1/2 libra) | 1/2 chile jalapeño, picado finamente | 1/4 taza de cebolla finamente picada | 2 cucharadas de cilantro picado | 1 1/2 cucharaditas de jugo de limón', 'Salsa de fresas', 'Postres']\n"
     ]
    }
   ],
   "source": [
    "\n",
    "query_client = \"Receta de torta de fresa\"\n",
    "query_embeddings = embeddings.embed_query(query_client)\n",
    "\n",
    "\n",
    "response_option = [similitud_cosenos(query_embeddings, q) for q in query]\n",
    "\n",
    "pos = np.argmax(response_option)\n",
    "request = respuestas[pos]\n",
    "\n",
    "print(f\"{query_client} - rta: {request}\")"
   ]
  },
  {
   "cell_type": "code",
   "execution_count": 4,
   "metadata": {},
   "outputs": [
    {
     "name": "stdout",
     "output_type": "stream",
     "text": [
      "Receta de spagheti\n",
      "Receta: Calabaza espagueti\n",
      "Categoría: Cena\n",
      "Ingredientes:  | 1 calabaza tipo espagueti entera | Condimentos de su elección para cubrir la calabaza\n"
     ]
    }
   ],
   "source": [
    "\n",
    "query_client = \"Receta de spagheti\"\n",
    "query_embeddings = embeddings.embed_query(query_client)\n",
    "\n",
    "\n",
    "response_option = [similitud_cosenos(query_embeddings, q) for q in query]\n",
    "\n",
    "\n",
    "pos = np.argmax(response_option)\n",
    "request_ingredientes, request_nombre, request_categoria = respuestas[pos]\n",
    "\n",
    "print(f\"{query_client}\\nReceta: {request_nombre}\\nCategoría: {request_categoria}\\nIngredientes: {request_ingredientes}\")"
   ]
  }
 ],
 "metadata": {
  "kernelspec": {
   "display_name": "gato",
   "language": "python",
   "name": "python3"
  },
  "language_info": {
   "codemirror_mode": {
    "name": "ipython",
    "version": 3
   },
   "file_extension": ".py",
   "mimetype": "text/x-python",
   "name": "python",
   "nbconvert_exporter": "python",
   "pygments_lexer": "ipython3",
   "version": "3.11.2"
  }
 },
 "nbformat": 4,
 "nbformat_minor": 2
}
