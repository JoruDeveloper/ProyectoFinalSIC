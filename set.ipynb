{
 "cells": [
  {
   "cell_type": "code",
   "execution_count": 2,
   "metadata": {},
   "outputs": [
    {
     "name": "stdout",
     "output_type": "stream",
     "text": [
      "{'pimiento morrón', 'arándanos rojos', 'repollo', 'consomé de vegetales', 'frijoles blancos', 'cebollines', 'condimento italiano', 'brócoli', 'consomé de pollo', 'aceite', 'nuez moscada', 'comino', 'cilantro', 'calabacita', 'habichuelas', 'ejotes', 'apio', 'leche evaporada', 'tomillo', 'salsa picante', 'jugo de limón', 'elote', 'calabaza', 'orégano', 'jugo de naranja', 'sal', 'harina', 'tofu', 'ajo en polvo', 'leche', 'tomate', 'cebolla', 'ajo', 'caldo', 'huevos', 'queso cheddar', 'maíz', 'agua', 'col rizada', 'jengibre', 'papas', 'queso', 'peras', 'miel', 'pimienta', 'tomates', 'hongos', 'pimientos', 'espinacas', 'curry', 'chícharos', 'trigo bulgur', 'yogur', 'mantequilla', 'vegetales', 'aceite vegetal', 'frijoles negros', 'margarina', 'pimiento verde', 'limón', 'albahaca', 'champiñones', 'caldo de vegetales', 'hojuelas de pimienta roja'}\n"
     ]
    }
   ],
   "source": [
    "with open(\"ingredientes.txt\", \"r\", encoding=\"utf-8\") as file:\n",
    "    ingredientes = {line.strip() for line in file}\n",
    "\n",
    "print(ingredientes)"
   ]
  },
  {
   "cell_type": "code",
   "execution_count": null,
   "metadata": {},
   "outputs": [
    {
     "name": "stdout",
     "output_type": "stream",
     "text": [
      "pimiento morrón: 55\n",
      "arándanos rojos: 18\n",
      "repollo: 51\n",
      "consomé de vegetales: 39\n",
      "frijoles blancos: 20\n",
      "cebollines: 45\n",
      "condimento italiano: 48\n",
      "brócoli: 53\n",
      "consomé de pollo: 15\n",
      "aceite: 20\n",
      "nuez moscada: 5\n",
      "comino: 60\n",
      "cilantro: 45\n",
      "calabacita: 53\n",
      "habichuelas: 57\n",
      "ejotes: 1\n",
      "apio: 56\n",
      "leche evaporada: 45\n",
      "tomillo: 49\n",
      "salsa picante: 5\n",
      "jugo de limón: 41\n",
      "elote: 35\n",
      "calabaza: 58\n",
      "orégano: 3\n",
      "jugo de naranja: 51\n",
      "sal: 52\n",
      "harina: 7\n",
      "tofu: 10\n",
      "ajo en polvo: 40\n",
      "leche: 64\n",
      "tomate: 23\n",
      "cebolla: 63\n",
      "ajo: 26\n",
      "caldo: 38\n",
      "huevos: 9\n",
      "queso cheddar: 13\n",
      "maíz: 39\n",
      "agua: 56\n",
      "col rizada: 11\n",
      "jengibre: 57\n",
      "papas: 58\n",
      "queso: 12\n",
      "peras: 29\n",
      "miel: 50\n",
      "pimienta: 11\n",
      "tomates: 47\n",
      "hongos: 15\n",
      "pimientos: 64\n",
      "espinacas: 10\n",
      "curry: 49\n",
      "chícharos: 34\n",
      "trigo bulgur: 22\n",
      "yogur: 26\n",
      "mantequilla: 49\n",
      "vegetales: 35\n",
      "aceite vegetal: 26\n",
      "frijoles negros: 1\n",
      "margarina: 19\n",
      "pimiento verde: 9\n",
      "limón: 50\n",
      "albahaca: 51\n",
      "champiñones: 51\n",
      "caldo de vegetales: 11\n",
      "hojuelas de pimienta roja: 40\n"
     ]
    }
   ],
   "source": [
    "\n",
    "\n",
    "\n",
    "\n",
    "def generarCodigo(n):\n",
    "    return random.randint(1,n)\n",
    "\n",
    "codigos_ingredientes = {ingrediente: generarCodigo(len(ingredientes)) for ingrediente in ingredientes}\n",
    "\n",
    "for ingrediente, codigo in codigos_ingredientes.items():\n",
    "    print(f\"{ingrediente}: {codigo}\")"
   ]
  },
  {
   "cell_type": "code",
   "execution_count": null,
   "metadata": {},
   "outputs": [],
   "source": [
    "import random\n",
    "\n",
    "arreglo_dict = [{\n",
    "    \"nombre\": \"Cadena De ejemplo1\",\n",
    "    \"arreglo_ingredientes\": []\n",
    "},{\n",
    "    \"nombre\": \"Cadena De ejemplo2\",\n",
    "    \"ingredientes\": []\n",
    "},{\n",
    "    \"nombre\": \"Cadena De ejemplo3\",\n",
    "    \"ingredientes\": []\n",
    "},{\n",
    "    \"nombre\": \"Cadena De ejemplo4\",\n",
    "    \"ingredientes\": []\n",
    "},{\n",
    "    \"nombre\": \"Cadena De ejemplo5\",\n",
    "    \"ingredientes\": []\n",
    "},{\n",
    "    \"nombre\": \"Cadena De ejemplo6\",\n",
    "    \"ingredientes\": []\n",
    "}]\n",
    "\n",
    "for ingrediente in ingredientes:\n",
    "    pos_random = random.randint(0,len(arreglo_dict)-1)\n",
    "    arreglo_dict[pos_random][\"arreglo_ingredientes\"].append(ingrediente)\n",
    "\n",
    "print(arreglo_dict)"
   ]
  }
 ],
 "metadata": {
  "kernelspec": {
   "display_name": "gato",
   "language": "python",
   "name": "python3"
  },
  "language_info": {
   "codemirror_mode": {
    "name": "ipython",
    "version": 3
   },
   "file_extension": ".py",
   "mimetype": "text/x-python",
   "name": "python",
   "nbconvert_exporter": "python",
   "pygments_lexer": "ipython3",
   "version": "3.11.2"
  }
 },
 "nbformat": 4,
 "nbformat_minor": 2
}
